{
 "cells": [
  {
   "cell_type": "code",
   "execution_count": 1,
   "id": "77baea32",
   "metadata": {},
   "outputs": [],
   "source": [
    "from cedarpy import is_authorized"
   ]
  },
  {
   "cell_type": "code",
   "execution_count": 20,
   "id": "88774aef",
   "metadata": {},
   "outputs": [
    {
     "name": "stdout",
     "output_type": "stream",
     "text": [
      "Authorization result: True\n"
     ]
    }
   ],
   "source": [
    "from typing import Any\n",
    "\n",
    "\n",
    "policies: str = \"\"\"\n",
    "    // can add fragment to memory when is the memory owner or has permissions\n",
    "    permit(\n",
    "        principal == User::\"user-1\",\n",
    "        action == Action::\"addFragment\",\n",
    "        resource == Memory::\"memory-1\"\n",
    "    );\n",
    "    permit(\n",
    "        principal == User::\"user-2\",\n",
    "        action == Action::\"addFragment\",\n",
    "        resource == Memory::\"memory-1\"\n",
    "    );\n",
    "\"\"\"\n",
    "\n",
    "entities: list[dict[str, Any]] = [\n",
    "    {\n",
    "        \"uid\": {\n",
    "            \"type\": \"Memory\",\n",
    "            \"id\": \"memory-1\"\n",
    "        },\n",
    "        \"attrs\": {\n",
    "            \"permissions\": {\n",
    "                \"sharedWith\": [{\n",
    "                    \"__entity\": {\n",
    "                        \"type\": \"User\",\n",
    "                        \"id\": \"user-2\"\n",
    "                    }\n",
    "                }]\n",
    "            },\n",
    "            \"created_by\": {\n",
    "                \"__entity\": {\n",
    "                    \"type\": \"User\",\n",
    "                    \"id\": \"user-1\"\n",
    "                }\n",
    "            }\n",
    "        },\n",
    "        \"parents\": [],\n",
    "    }\n",
    "]\n",
    "\n",
    "request = {\n",
    "    \"principal\": 'User::\"user-2\"',\n",
    "    \"action\": 'Action::\"addFragment\"',\n",
    "    \"resource\": 'Memory::\"memory-1\"',\n",
    "    \"context\": {}\n",
    "}\n",
    "\n",
    "auth_result = is_authorized(request, policies, entities)\n",
    "print(f\"Authorization result: {auth_result.allowed}\")"
   ]
  },
  {
   "cell_type": "code",
   "execution_count": 12,
   "id": "a9a4d468",
   "metadata": {},
   "outputs": [],
   "source": [
    "from uuid import uuid4\n",
    "from src.entities.user import User\n",
    "from src.entities.memory import Memory\n",
    "from src.entities.account import Account\n",
    "account1 = Account(id=uuid4())\n",
    "account2 = Account(id=uuid4())\n",
    "user1 = User(id=uuid4(), account=account1.id)\n",
    "user2 = User(id=uuid4(), account=account2.id)\n",
    "memory = Memory(title=\"Sample Memory\", owner=user1.id, readers=[user2.id], created_by=user1.id)"
   ]
  },
  {
   "cell_type": "code",
   "execution_count": 2,
   "id": "fdcafde5",
   "metadata": {},
   "outputs": [
    {
     "data": {
      "text/plain": [
       "{'uid': {'id': 'fdfe175c-98b7-4280-ac6c-b8ae37390e88', 'type': 'Memory'},\n",
       " 'attrs': {'editors': [],\n",
       "  'readers': [],\n",
       "  'owner': {'__entity': {'id': '93e2a393-db84-469c-8216-3ce1ed2b8f8a',\n",
       "    'type': 'User'}}},\n",
       " 'parents': []}"
      ]
     },
     "execution_count": 2,
     "metadata": {},
     "output_type": "execute_result"
    }
   ],
   "source": [
    "memory.cedar_schema()"
   ]
  },
  {
   "cell_type": "code",
   "execution_count": 4,
   "id": "eab19e85",
   "metadata": {},
   "outputs": [
    {
     "data": {
      "text/plain": [
       "{'id': 'fdfe175c-98b7-4280-ac6c-b8ae37390e88', 'type': 'Memory'}"
      ]
     },
     "execution_count": 4,
     "metadata": {},
     "output_type": "execute_result"
    }
   ],
   "source": [
    "memory.cedar_eid()"
   ]
  },
  {
   "cell_type": "code",
   "execution_count": 5,
   "id": "cc6b94ae",
   "metadata": {},
   "outputs": [
    {
     "data": {
      "text/plain": [
       "{'uid': {'id': '93e2a393-db84-469c-8216-3ce1ed2b8f8a', 'type': 'User'},\n",
       " 'attrs': {'account': {'__entity': {'id': '0fddb033-469a-4451-b3ed-a9ecd9513b5c',\n",
       "    'type': 'Account'}}},\n",
       " 'parents': []}"
      ]
     },
     "execution_count": 5,
     "metadata": {},
     "output_type": "execute_result"
    }
   ],
   "source": [
    "user1.cedar_schema()"
   ]
  },
  {
   "cell_type": "code",
   "execution_count": 6,
   "id": "4445ac9e",
   "metadata": {},
   "outputs": [
    {
     "data": {
      "text/plain": [
       "{'id': '93e2a393-db84-469c-8216-3ce1ed2b8f8a', 'type': 'User'}"
      ]
     },
     "execution_count": 6,
     "metadata": {},
     "output_type": "execute_result"
    }
   ],
   "source": [
    "user1.cedar_eid()"
   ]
  },
  {
   "cell_type": "code",
   "execution_count": 36,
   "id": "9e980b3a",
   "metadata": {},
   "outputs": [
    {
     "data": {
      "text/plain": [
       "True"
      ]
     },
     "execution_count": 36,
     "metadata": {},
     "output_type": "execute_result"
    }
   ],
   "source": [
    "from cedarpy import is_authorized\n",
    "\n",
    "request = {\n",
    "    \"principal\": user1.cedar_eid(True),\n",
    "    \"action\": 'Action::\"EditPin\"',\n",
    "    \"resource\": memory.cedar_eid(True),\n",
    "    \"context\": {}\n",
    "}\n",
    "with open(\"src/policies.cedar\", \"r\") as f:\n",
    "    policies = f.read()\n",
    "auth_result = is_authorized(request, policies, [user1.cedar_schema(), memory.cedar_schema()])\n",
    "auth_result.allowed"
   ]
  },
  {
   "cell_type": "code",
   "execution_count": 35,
   "id": "0c8646ab",
   "metadata": {},
   "outputs": [
    {
     "data": {
      "text/plain": [
       "'// Policy 0: A User can create a Memory in their Account and see what Memories are in their Account\\npermit (\\n    principal,  // User\\n    action in [Action::\"CreateMemory\", Action::\"ListMemorySummaries\"],\\n    resource is Account\\n) when {\\n    principal has \"account\" && principal.account == resource\\n};\\n\\n// Policy 1: A User can perform any action on a Memory they own\\npermit (\\n  principal,  // User\\n  action,\\n  resource is Memory\\n)\\nwhen { resource.owner == principal };\\n\\n// Policy 2: A User can see a Memory or Fragment if they are either a reader or editor\\npermit (\\n    principal,\\n    action in [Action::\"GetMemory\"],\\n    resource is Memory\\n)\\nwhen { principal in resource.readers || principal in resource.editors };\\n\\n// Policy 3: A User can update a Memory if they are an editor\\npermit (\\n    principal,\\n    action in [Action::\"SharedMemoryEditActions\"],\\n    resource is Memory\\n)\\nwhen { principal in resource.editors };\\n'"
      ]
     },
     "execution_count": 35,
     "metadata": {},
     "output_type": "execute_result"
    }
   ],
   "source": [
    "policies"
   ]
  },
  {
   "cell_type": "code",
   "execution_count": null,
   "id": "aa53f79a",
   "metadata": {},
   "outputs": [],
   "source": []
  }
 ],
 "metadata": {
  "kernelspec": {
   "display_name": ".venv",
   "language": "python",
   "name": "python3"
  },
  "language_info": {
   "codemirror_mode": {
    "name": "ipython",
    "version": 3
   },
   "file_extension": ".py",
   "mimetype": "text/x-python",
   "name": "python",
   "nbconvert_exporter": "python",
   "pygments_lexer": "ipython3",
   "version": "3.12.4"
  }
 },
 "nbformat": 4,
 "nbformat_minor": 5
}
